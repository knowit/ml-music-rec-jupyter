{
 "cells": [
  {
   "cell_type": "markdown",
   "metadata": {},
   "source": [
    "# Assignment 0: Getting started with some statistics\n",
    "Using the Spotify Web API, we have extracted musical features for a great number of playlists. Each playlist belongs to one of 22 categories: Pop, Hip-Hop, Electronic/Dance, R&B, Rock, Indie, Metal, Country, 90s, 80s, 70s, 60s, Soul Jazz, Latin, Folk & America, Classical, Reggae, Blues, Funk, Punk og Romance/Love songs. Each of the categories consist of approximately 250-400 songs, intended to be a representative selection.\n",
    "\n",
    "The Spotify Web API returns 13 features to describe the musical aspects of a song. Below, you can see an example of what the API returns for a particular song. The file features_config.py contains the features and a description of each.\n",
    "\n",
    "{\n",
    "  \"duration_ms\" : 255349,\n",
    "  \"key\" : 5,\n",
    "  \"mode\" : 0,\n",
    "  \"time_signature\" : 4,\n",
    "  \"acousticness\" : 0.514,\n",
    "  \"danceability\" : 0.735,\n",
    "  \"energy\" : 0.578,\n",
    "  \"instrumentalness\" : 0.0902,\n",
    "  \"liveness\" : 0.159,\n",
    "  \"loudness\" : -11.840,\n",
    "  \"speechiness\" : 0.0461,\n",
    "  \"valence\" : 0.624,\n",
    "  \"tempo\" : 98.002,\n",
    "  \"id\" : \"06AKEBrKUckW0KREUWRnvT\",\n",
    "  \"uri\" : \"spotify:track:06AKEBrKUckW0KREUWRnvT\",\n",
    "  \"track_href\" : \"https://api.spotify.com/v1/tracks/06AKEBrKUckW0KREUWRnvT\",\n",
    "  \"analysis_url\" : \"https://api.spotify.com/v1/audio-analysis/06AKEBrKUckW0KREUWRnvT\",\n",
    "  \"type\" : \"audio_features\"\n",
    "}"
   ]
  },
  {
   "cell_type": "markdown",
   "metadata": {},
   "source": [
    "\n",
    "Let’s start slowly. In this preliminary task you will construct a dataset and take a look at the features of the songs you like. Optimally this dataset would be handpicked, where every song represents a song you like, but this process would be very time-consuming and not viable for this workshop, so instead you will pick some of the playlists we have collected for you.\n",
    "\n",
    "**Task:** Before anything else, you have to open the file dataset_config.py and pick 10-15 playlists. Each line in the list stored as likeable_songs represents a playlist. Un-comment the playlists you believe represent your musical taste. If you want to be certain, you can check the track list in each genre folder, but do not spend too much time :)\n",
    "\n",
    "Also edit features_config.py if you want to exclude any features.\n",
    "\n",
    "Remember to save the dataset and features files when you change them. Otherwise, the changes won't propagate in here.\n"
   ]
  },
  {
   "cell_type": "markdown",
   "metadata": {},
   "source": [
    "**Task:** Run a code cell by selecting it and pressing Shift + Enter. Each assignment notebook will have imports as its first cell. Run each cell sequentially in the the notebook, until you're given a task."
   ]
  },
  {
   "cell_type": "code",
   "execution_count": null,
   "metadata": {
    "scrolled": true
   },
   "outputs": [],
   "source": [
    "%matplotlib inline \n",
    "import nbimporter\n",
    "nbimporter.options['only_defs'] = False\n",
    "import importlib\n",
    "from sklearn.preprocessing import StandardScaler\n",
    "import numpy as np\n",
    "import matplotlib.pyplot as plt\n",
    "from helpers_and_data_parsing import pre_process_cluster_data, calculate_average, calculate_standard_deviation, plot\n",
    "import dataset_config\n",
    "import features_config"
   ]
  },
  {
   "cell_type": "code",
   "execution_count": null,
   "metadata": {},
   "outputs": [],
   "source": [
    "importlib.reload(dataset_config)\n",
    "importlib.reload(features_config)\n",
    "\n",
    "# Get all the features you chose\n",
    "tot_features = features_config.get_features()\n",
    "\n",
    "# Get all the likeable songs you chose\n",
    "likeable_songs = dataset_config.likeable_songs\n",
    "\n",
    "# Get data on the correct format so we can do analysis on it\n",
    "X_data, X_songname, X_artist = pre_process_cluster_data(likeable_songs)\n",
    "\n",
    "# X_data = StandardScaler().fit_transform(X_data)\n",
    "# Find the average of your data\n",
    "averages = np.squeeze(np.asarray(calculate_average(X_data)))\n",
    "\n",
    "# Plot the average data\n",
    "plot(averages, tot_features, True)\n",
    "\n"
   ]
  },
  {
   "cell_type": "markdown",
   "metadata": {},
   "source": [
    "**Task:** The following cells will output the standard deviation and the average values for a subset of features. How is the variation in your dataset? Do you mostly have very similar songs or is there a large degree of variation? How is the standard deviation? A low value indicates low variation in your musical taste :)"
   ]
  },
  {
   "cell_type": "code",
   "execution_count": null,
   "metadata": {},
   "outputs": [],
   "source": [
    "importlib.reload(dataset_config)\n",
    "importlib.reload(features_config)\n",
    "\n",
    "# Get all the features you chose\n",
    "tot_features = features_config.get_features()\n",
    "\n",
    "# Get all the likeable songs you chose\n",
    "likeable_songs = dataset_config.likeable_songs\n",
    "\n",
    "# Get data on the correct format so we can do analysis on it\n",
    "X_data, X_songname, X_artist = pre_process_cluster_data(likeable_songs)\n",
    "\n",
    "# X_data = StandardScaler().fit_transform(X_data)\n",
    "# Calculate the standard deviation of your data\n",
    "standard_deviation = np.squeeze(np.asarray(calculate_standard_deviation(X_data)))\n",
    "\n",
    "# Plot the standard deviation data\n",
    "plot(standard_deviation, tot_features, False)"
   ]
  },
  {
   "cell_type": "markdown",
   "metadata": {},
   "source": [
    "**Task:** Run the following cell to output the funness-score. How fun and energetic is your dataset? Of course this is really a matter of subjective opinion, but nevertheless, we calculate you funness-score from a subset of the features. The formula is as follows: \n",
    "\n",
    "“funness” = loudness + tempo + (energy&ast;100) + (danceability&ast;100) \n",
    "\n",
    "Compare with your new buddies around you to see who’s most fun! :)\n"
   ]
  },
  {
   "cell_type": "code",
   "execution_count": null,
   "metadata": {},
   "outputs": [],
   "source": [
    "# Calculate \"funness\" of your songs\n",
    "funness = 0\n",
    "for i, v in enumerate(tot_features):\n",
    "    if v == 'loudness':\n",
    "        funness += averages[i]\n",
    "\n",
    "    elif v == 'tempo':\n",
    "        funness += averages[i]\n",
    "\n",
    "    elif v == 'energy':\n",
    "        funness += averages[i] * 100\n",
    "\n",
    "    elif v == 'danceability':\n",
    "        funness += averages[i] * 100\n",
    "\n",
    "print(\"Your funness score is %f. Compare it to the people around you. The higher the score, the more fun your music is!\" % funness)"
   ]
  },
  {
   "cell_type": "markdown",
   "metadata": {},
   "source": [
    "Good job. Move on to the next assignment if you have been through all the tasks :)"
   ]
  }
 ],
 "metadata": {
  "kernelspec": {
   "display_name": "Python 3.6 - AzureML",
   "language": "python",
   "name": "python3-azureml"
  },
  "language_info": {
   "codemirror_mode": {
    "name": "ipython",
    "version": 3
   },
   "file_extension": ".py",
   "mimetype": "text/x-python",
   "name": "python",
   "nbconvert_exporter": "python",
   "pygments_lexer": "ipython3",
   "version": "3.6.7"
  }
 },
 "nbformat": 4,
 "nbformat_minor": 2
}
